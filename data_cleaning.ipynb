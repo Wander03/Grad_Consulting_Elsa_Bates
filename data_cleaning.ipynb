{
 "cells": [
  {
   "cell_type": "code",
   "execution_count": 22,
   "metadata": {},
   "outputs": [
    {
     "name": "stdout",
     "output_type": "stream",
     "text": [
      "Loaded 52 AxialRotation files\n",
      "Loaded 56 Flexion files\n",
      "Loaded 54 LateralBending files\n"
     ]
    }
   ],
   "source": [
    "import pandas as pd\n",
    "import glob\n",
    "import os\n",
    "\n",
    "# Get all csv files in the folder\n",
    "folder_path = 'Aligned Data All Participants'\n",
    "\n",
    "# Initialize separate dictionaries\n",
    "axial_rotation = {}\n",
    "flexion = {}\n",
    "lateral_bending = {}\n",
    "\n",
    "# Get all CSV files\n",
    "all_files = glob.glob(os.path.join(folder_path, \"*.csv\"))\n",
    "\n",
    "for file in all_files:\n",
    "    try:\n",
    "        # Get the filename without path or extension\n",
    "        filename = os.path.splitext(os.path.basename(file))[0]\n",
    "        \n",
    "        # Read the CSV file\n",
    "        df = pd.read_csv(file)\n",
    "        \n",
    "        # Categorize based on filename\n",
    "        if 'AxialRotation' in filename:\n",
    "            axial_rotation[filename] = df\n",
    "        elif 'Flexion' in filename:\n",
    "            flexion[filename] = df\n",
    "        elif 'LateralBending' in filename:\n",
    "            lateral_bending[filename] = df\n",
    "        else:\n",
    "            print(f\"File {filename} didn't match any category\")\n",
    "            \n",
    "    except Exception as e:\n",
    "        print(f\"Error loading {file}: {str(e)}\")\n",
    "\n",
    "print(f\"Loaded {len(axial_rotation)} AxialRotation files\")\n",
    "print(f\"Loaded {len(flexion)} Flexion files\")\n",
    "print(f\"Loaded {len(lateral_bending)} LateralBending files\")"
   ]
  }
 ],
 "metadata": {
  "kernelspec": {
   "display_name": "Python 3",
   "language": "python",
   "name": "python3"
  },
  "language_info": {
   "codemirror_mode": {
    "name": "ipython",
    "version": 3
   },
   "file_extension": ".py",
   "mimetype": "text/x-python",
   "name": "python",
   "nbconvert_exporter": "python",
   "pygments_lexer": "ipython3",
   "version": "3.10.11"
  }
 },
 "nbformat": 4,
 "nbformat_minor": 2
}
