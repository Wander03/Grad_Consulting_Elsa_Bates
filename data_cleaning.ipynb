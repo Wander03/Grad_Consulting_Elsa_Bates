{
 "cells": [
  {
   "cell_type": "code",
   "execution_count": 18,
   "metadata": {},
   "outputs": [
    {
     "ename": "NameError",
     "evalue": "name 'folder_path' is not defined",
     "output_type": "error",
     "traceback": [
      "\u001b[1;31m---------------------------------------------------------------------------\u001b[0m",
      "\u001b[1;31mNameError\u001b[0m                                 Traceback (most recent call last)",
      "Cell \u001b[1;32mIn[18], line 14\u001b[0m\n\u001b[0;32m     11\u001b[0m lateral_bending \u001b[38;5;241m=\u001b[39m {}\n\u001b[0;32m     13\u001b[0m \u001b[38;5;66;03m# Get all CSV files\u001b[39;00m\n\u001b[1;32m---> 14\u001b[0m all_files \u001b[38;5;241m=\u001b[39m glob\u001b[38;5;241m.\u001b[39mglob(os\u001b[38;5;241m.\u001b[39mpath\u001b[38;5;241m.\u001b[39mjoin(\u001b[43mfolder_path\u001b[49m, \u001b[38;5;124m\"\u001b[39m\u001b[38;5;124m*.csv\u001b[39m\u001b[38;5;124m\"\u001b[39m))\n\u001b[0;32m     16\u001b[0m \u001b[38;5;28;01mfor\u001b[39;00m file \u001b[38;5;129;01min\u001b[39;00m all_files:\n\u001b[0;32m     17\u001b[0m     \u001b[38;5;28;01mtry\u001b[39;00m:\n\u001b[0;32m     18\u001b[0m         \u001b[38;5;66;03m# Get the filename without path or extension\u001b[39;00m\n",
      "\u001b[1;31mNameError\u001b[0m: name 'folder_path' is not defined"
     ]
    }
   ],
   "source": [
    "import pandas as pd\n",
    "import glob\n",
    "import os\n",
    "\n",
    "# Get all csv files in the folder\n",
    "folder_path = 'Aligned Data All Participants'\n",
    "\n",
    "# Initialize separate dictionaries\n",
    "axial_rotation = {}\n",
    "flexion = {}\n",
    "lateral_bending = {}\n",
    "\n",
    "# Get all CSV files\n",
    "all_files = glob.glob(os.path.join(folder_path, \"*.csv\"))\n",
    "\n",
    "for file in all_files:\n",
    "    try:\n",
    "        # Get the filename without path or extension\n",
    "        filename = os.path.splitext(os.path.basename(file))[0]\n",
    "        \n",
    "        # Read the CSV file\n",
    "        df = pd.read_csv(file)\n",
    "        \n",
    "        # Categorize based on filename\n",
    "        if 'AxialRotation' in filename:\n",
    "            axial_rotation[filename] = df\n",
    "        elif 'Flexion' in filename:\n",
    "            flexion[filename] = df\n",
    "        elif 'LateralBending' in filename:\n",
    "            lateral_bending[filename] = df\n",
    "        else:\n",
    "            print(f\"File {filename} didn't match any category\")\n",
    "            \n",
    "    except Exception as e:\n",
    "        print(f\"Error loading {file}: {str(e)}\")"
   ]
  },
  {
   "cell_type": "code",
   "execution_count": 16,
   "metadata": {},
   "outputs": [
    {
     "data": {
      "text/plain": [
       "dict_keys(['10AxialRotation_IMU_95s_to_127s', '10AxialRotation_MoCap_95s_to_127s', '10Flexion_IMU_3s_to_44s', '10Flexion_MoCap_3s_to_44s', '10LateralBending_IMU_53s_to_85s', '10LateralBending_MoCap_53s_to_85s', '11AxialRotation_IMU_95s_to_127s', '11AxialRotation_MoCap_95s_to_127s', '11Flexion_IMU_3s_to_44s', '11Flexion_MoCap_3s_to_44s', '11LateralBending_IMU_53s_to_85s', '11LateralBending_MoCap_53s_to_85s', '12AxialRotation_IMU_95s_to_126s', '12AxialRotation_MoCap_95s_to_126s', '12Flexion_IMU_3s_to_44s', '12Flexion_MoCap_3s_to_44s', '12LateralBending_IMU_53s_to_85s', '12LateralBending_MoCap_53s_to_85s', '13AxialRotation_IMU_95s_to_126s', '13AxialRotation_MoCap_95s_to_126s', '13Flexion_IMU_3s_to_44s', '13Flexion_MoCap_3s_to_44s', '13LateralBending_IMU_53s_to_85s', '13LateralBending_MoCap_53s_to_85s', '14AxialRotation_IMU_95s_to_126s', '14AxialRotation_MoCap_95s_to_126s', '14Flexion_IMU_3s_to_44s', '14Flexion_MoCap_3s_to_44s', '14LateralBending_IMU_53s_to_85s', '14LateralBending_MoCap_53s_to_85s', '15AxialRotation_IMU_95s_to_126s', '15AxialRotation_MoCap_95s_to_126s', '15Flexion_IMU_3s_to_44s', '15Flexion_MoCap_3s_to_44s', '15LateralBending_IMU_53s_to_85s', '15LateralBending_MoCap_53s_to_85s', '16AxialRotation_IMU_95s_to_126s', '16AxialRotation_MoCap_95s_to_126s', '16Flexion_IMU_3s_to_44s', '16Flexion_MoCap_3s_to_44s', '16LateralBending_IMU_53s_to_85s', '16LateralBending_MoCap_53s_to_85s', '17AxialRotation_IMU_95s_to_126s', '17AxialRotation_MoCap_95s_to_126s', '17Flexion_IMU_3s_to_44s', '17Flexion_MoCap_3s_to_44s', '17LateralBending_IMU_53s_to_85s', '17LateralBending_MoCap_53s_to_85s', '18Flexion_IMU_3s_to_44s', '18Flexion_MoCap_3s_to_44s', '18LateralBending_IMU_53s_to_85s', '18LateralBending_MoCap_53s_to_85s', '19AxialRotation_IMU_95s_to_126s', '19AxialRotation_MoCap_95s_to_126s', '19Flexion_IMU_3s_to_44s', '19Flexion_MoCap_3s_to_44s', '19LateralBending_IMU_53s_to_85s', '19LateralBending_MoCap_53s_to_85s', '1AxialRotation_IMU_95s_to_126s', '1AxialRotation_MoCap_95s_to_126s', '1Flexion_IMU_3s_to_44s', '1Flexion_MoCap_3s_to_44s', '1LateralBending_IMU_53s_to_85s', '1LateralBending_MoCap_53s_to_85s', '20AxialRotation_IMU_95s_to_126s', '20AxialRotation_MoCap_95s_to_126s', '20Flexion_IMU_3s_to_44s', '20Flexion_MoCap_3s_to_44s', '20LateralBending_IMU_53s_to_85s', '20LateralBending_MoCap_53s_to_85s', '21AxialRotation_IMU_95s_to_126s', '21AxialRotation_MoCap_95s_to_126s', '21Flexion_IMU_3s_to_44s', '21Flexion_MoCap_3s_to_44s', '21LateralBending_IMU_53s_to_85s', '21LateralBending_MoCap_53s_to_85s', '22AxialRotation_IMU_95s_to_126s', '22AxialRotation_MoCap_95s_to_126s', '22Flexion_IMU_3s_to_44s', '22Flexion_MoCap_3s_to_44s', '22LateralBending_IMU_53s_to_85s', '22LateralBending_MoCap_53s_to_85s', '23AxialRotation_IMU_95s_to_126s', '23AxialRotation_MoCap_95s_to_126s', '23Flexion_IMU_3s_to_44s', '23Flexion_MoCap_3s_to_44s', '23LateralBending_IMU_53s_to_85s', '23LateralBending_MoCap_53s_to_85s', '24AxialRotation_IMU_95s_to_126s', '24AxialRotation_MoCap_95s_to_126s', '24Flexion_IMU_3s_to_44s', '24Flexion_MoCap_3s_to_44s', '24LateralBending_IMU_53s_to_85s', '24LateralBending_MoCap_53s_to_85s', '25AxialRotation_IMU_95s_to_126s', '25AxialRotation_MoCap_95s_to_126s', '25Flexion_IMU_3s_to_44s', '25Flexion_MoCap_3s_to_44s', '25LateralBending_IMU_53s_to_85s', '25LateralBending_MoCap_53s_to_85s', '26AxialRotation_IMU_95s_to_126s', '26AxialRotation_MoCap_95s_to_126s', '26Flexion_IMU_3s_to_44s', '26Flexion_MoCap_3s_to_44s', '26LateralBending_IMU_53s_to_85s', '26LateralBending_MoCap_53s_to_85s', '27AxialRotation_IMU_95s_to_126s', '27AxialRotation_MoCap_95s_to_126s', '27Flexion_IMU_3s_to_44s', '27Flexion_MoCap_3s_to_44s', '27LateralBending_IMU_53s_to_85s', '27LateralBending_MoCap_53s_to_85s', '28AxialRotation_IMU_95s_to_126s', '28AxialRotation_MoCap_95s_to_126s', '28Flexion_IMU_3s_to_44s', '28Flexion_MoCap_3s_to_44s', '28LateralBending_IMU_53s_to_85s', '28LateralBending_MoCap_53s_to_85s', '29AxialRotation_IMU_95s_to_126s', '29AxialRotation_MoCap_95s_to_126s', '29Flexion_IMU_3s_to_44s', '29Flexion_MoCap_3s_to_44s', '2AxialRotation_IMU_95s_to_129s', '2AxialRotation_MoCap_95s_to_129s', '2Flexion_IMU_3s_to_44s', '2Flexion_MoCap_3s_to_44s', '2LateralBending_IMU_53s_to_86s', '2LateralBending_MoCap_53s_to_86s', '30AxialRotation_IMU_95s_to_126s', '30AxialRotation_MoCap_95s_to_126s', '30Flexion_IMU_3s_to_44s', '30Flexion_MoCap_3s_to_44s', '30LateralBending_IMU_53s_to_85s', '30LateralBending_MoCap_53s_to_85s', '3AxialRotation_IMU_95s_to_126s', '3AxialRotation_MoCap_95s_to_126s', '3Flexion_IMU_3s_to_44s', '3Flexion_MoCap_3s_to_44s', '3LateralBending_IMU_53s_to_85s', '3LateralBending_MoCap_53s_to_85s', '4AxialRotation_IMU_95s_to_126s', '4AxialRotation_MoCap_95s_to_126s', '4Flexion_IMU_3s_to_44s', '4Flexion_MoCap_3s_to_44s', '4LateralBending_IMU_53s_to_85s', '4LateralBending_MoCap_53s_to_85s', '5Flexion_IMU_3s_to_44s', '5Flexion_MoCap_3s_to_44s', '5LateralBending_IMU_53s_to_85s', '5LateralBending_MoCap_53s_to_85s', '7AxialRotation_IMU_95s_to_129s', '7AxialRotation_MoCap_95s_to_129s', '7Flexion_IMU_3s_to_44s', '7Flexion_MoCap_3s_to_44s', '7LateralBending_IMU_53s_to_85s', '7LateralBending_MoCap_53s_to_85s', '9AxialRotation_IMU_95s_to_127s', '9AxialRotation_MoCap_95s_to_127s', '9Flexion_IMU_3s_to_44s', '9Flexion_MoCap_3s_to_44s', '9LateralBending_IMU_53s_to_85s', '9LateralBending_MoCap_53s_to_85s'])"
      ]
     },
     "execution_count": 16,
     "metadata": {},
     "output_type": "execute_result"
    }
   ],
   "source": [
    "dataframes.keys()"
   ]
  }
 ],
 "metadata": {
  "kernelspec": {
   "display_name": "Python 3",
   "language": "python",
   "name": "python3"
  },
  "language_info": {
   "codemirror_mode": {
    "name": "ipython",
    "version": 3
   },
   "file_extension": ".py",
   "mimetype": "text/x-python",
   "name": "python",
   "nbconvert_exporter": "python",
   "pygments_lexer": "ipython3",
   "version": "3.10.11"
  }
 },
 "nbformat": 4,
 "nbformat_minor": 2
}
