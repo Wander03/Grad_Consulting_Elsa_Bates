{
 "cells": [
  {
   "cell_type": "code",
   "execution_count": 2,
   "id": "02ed3045",
   "metadata": {},
   "outputs": [],
   "source": [
    "import os\n",
    "import pandas as pd\n",
    "import numpy as np\n",
    "import matplotlib.pyplot as plt\n",
    "from skfda.representation.grid import FDataGrid\n",
    "from skfda.representation.basis import FourierBasis\n",
    "from skfda.preprocessing.smoothing import BasisSmoother\n",
    "import glob\n",
    "import re \n",
    "from skfda.misc.metrics import l2_distance\n",
    "from tqdm import tqdm\n",
    "import random"
   ]
  },
  {
   "cell_type": "markdown",
   "id": "0fc8869c",
   "metadata": {},
   "source": [
    "## Loading All Data"
   ]
  },
  {
   "cell_type": "code",
   "execution_count": 3,
   "id": "5be10984",
   "metadata": {},
   "outputs": [
    {
     "name": "stdout",
     "output_type": "stream",
     "text": [
      "Loaded 26 AxialRotation participants, each with MCP and IMU measurements.\n",
      "Loaded 27 Flexion participants, each with MCP and IMU measurements.\n",
      "Loaded 28 LateralBending participants, each with MCP and IMU measurements.\n"
     ]
    }
   ],
   "source": [
    "# Get all csv files in the folder\n",
    "folder_path = 'Aligned Data All Participants'\n",
    "\n",
    "# Initialize separate dictionaries\n",
    "ax_series = []\n",
    "la_series = []\n",
    "fl_series = []\n",
    "\n",
    "# Get all CSV files\n",
    "all_files = glob.glob(os.path.join(folder_path, \"*.csv\"))\n",
    "\n",
    "def truncate(arr, decimals=0):\n",
    "    factor = 10.0 ** decimals\n",
    "    return np.trunc(arr * factor) / factor\n",
    "\n",
    "def FDtuple(df_imu, df_mcp):\n",
    "    if not df_imu.empty and not df_mcp.empty:\n",
    "        time_imu = truncate(df_imu.iloc[:, 0].values, 3)\n",
    "        meas_imu = df_imu.iloc[:, 1].values\n",
    "        time_mcp = truncate(df_mcp.iloc[:, 0].values, 3) \n",
    "        meas_mcp = df_mcp.iloc[:, 1].values\n",
    "\n",
    "        t_min = min(time_imu.min(), time_mcp.min())\n",
    "        t_max = max(time_imu.max(), time_mcp.max())\n",
    "        domain = (t_min, t_max)\n",
    "\n",
    "        return tuple([\n",
    "            FDataGrid([meas_imu], grid_points=[time_imu], domain_range=domain),\n",
    "            FDataGrid([meas_mcp], grid_points=[time_mcp], domain_range=domain)\n",
    "        ])\n",
    "    else:\n",
    "        return None\n",
    "\n",
    "\n",
    "for i in range(1, 31): \n",
    "\n",
    "    ax_imu = pd.DataFrame()\n",
    "    ax_mcp = pd.DataFrame()\n",
    "    la_imu = pd.DataFrame()\n",
    "    la_mcp = pd.DataFrame()\n",
    "    fl_imu = pd.DataFrame()\n",
    "    fl_mcp = pd.DataFrame()\n",
    "\n",
    "    for file in all_files:\n",
    "        \n",
    "        if re.search(rf'\\\\{i}(?!\\d)', file):  \n",
    "            if 'Axial' in file and 'IMU' in file: \n",
    "                ax_imu = pd.read_csv(file)\n",
    "            elif 'Axial' in file and 'MoCap' in file:\n",
    "                ax_mcp = pd.read_csv(file)\n",
    "            elif 'Lateral' in file and 'IMU' in file:\n",
    "                la_imu = pd.read_csv(file)\n",
    "            elif 'Lateral' in file and 'MoCap' in file:\n",
    "                la_mcp = pd.read_csv(file)\n",
    "            elif 'Flexion' in file and 'IMU' in file:\n",
    "                fl_imu = pd.read_csv(file)\n",
    "            elif 'Flexion' in file and 'MoCap' in file:\n",
    "                fl_mcp = pd.read_csv(file)\n",
    "            else: \n",
    "                print('Warning: {file} isnt classified')\n",
    "    \n",
    "    if (ax := FDtuple(ax_imu, ax_mcp)):\n",
    "        ax_series.append(ax)\n",
    "\n",
    "    if (la := FDtuple(la_imu, la_mcp)):\n",
    "        la_series.append(la)\n",
    "\n",
    "    if (fl := FDtuple(fl_imu, fl_mcp)):\n",
    "        fl_series.append(fl)\n",
    "\n",
    "print(f\"Loaded {len(ax_series)} AxialRotation participants, each with MCP and IMU measurements.\")\n",
    "print(f\"Loaded {len(la_series)} Flexion participants, each with MCP and IMU measurements.\")\n",
    "print(f\"Loaded {len(fl_series)} LateralBending participants, each with MCP and IMU measurements.\")"
   ]
  },
  {
   "cell_type": "markdown",
   "id": "dde16ebf",
   "metadata": {},
   "source": [
    "## Distances in Axial Rotations + Statistical Test"
   ]
  },
  {
   "cell_type": "code",
   "execution_count": 7,
   "id": "0fbb5db9",
   "metadata": {},
   "outputs": [],
   "source": [
    "basis = FourierBasis(domain_range=(0, 1), n_basis=7)\n",
    "smoother = BasisSmoother(basis=basis)\n",
    "\n",
    "def smooth_fd(fd1: FDataGrid, fd2: FDataGrid):\n",
    "    t_min = max(fd1.grid_points[0].min(), fd2.grid_points[0].min())\n",
    "    t_max = min(fd1.grid_points[0].min(), fd2.grid_points[0].max()) \n",
    "    grid = np.linspace(t_min, t_max)\n",
    "    return smoother.fit_transform(fd1.to_grid(grid)), smoother.fit_transform(fd2.to_grid(grid))\n",
    "\n",
    "smoothed_pairs = []\n",
    "for s1, s2 in ax_series:\n",
    "    smoothed_s1, smoothed_s2 = smooth_fd(s1, s2) \n",
    "    smoothed_pairs.append((smoothed_s1, smoothed_s2))"
   ]
  },
  {
   "cell_type": "code",
   "execution_count": 6,
   "id": "aa2d2646",
   "metadata": {},
   "outputs": [
    {
     "name": "stderr",
     "output_type": "stream",
     "text": [
      "c:\\Users\\telec\\AppData\\Local\\Programs\\Python\\Python310\\lib\\site-packages\\matplotlib\\axes\\_axes.py:7096: RuntimeWarning: All-NaN slice encountered\n",
      "  xmin = min(xmin, np.nanmin(xi))\n",
      "c:\\Users\\telec\\AppData\\Local\\Programs\\Python\\Python310\\lib\\site-packages\\matplotlib\\axes\\_axes.py:7097: RuntimeWarning: All-NaN slice encountered\n",
      "  xmax = max(xmax, np.nanmax(xi))\n"
     ]
    },
    {
     "data": {
      "image/png": "[encoded data removed]",
      "text/plain": [
       "<Figure size 640x480 with 1 Axes>"
      ]
     },
     "metadata": {},
     "output_type": "display_data"
    }
   ],
   "source": [
    "# Compute L2 distance for each participant's two smoothed series\n",
    "distances = []\n",
    "for s1, s2 in smoothed_pairs:\n",
    "    d = l2_distance(s1, s2)\n",
    "    distances.append(d)\n",
    "\n",
    "# Visualize distances\n",
    "plt.hist(distances, bins=10)\n",
    "plt.title(\"L2 Distances Between Paired Time Series\")\n",
    "plt.xlabel(\"Distance\")\n",
    "plt.ylabel(\"Count\")\n",
    "plt.show()"
   ]
  },
  {
   "cell_type": "code",
   "execution_count": null,
   "id": "40950c73",
   "metadata": {},
   "outputs": [
    {
     "name": "stderr",
     "output_type": "stream",
     "text": [
      "100%|██████████| 1000/1000 [00:10<00:00, 95.86it/s]\n"
     ]
    }
   ],
   "source": [
    "all_series = [s for pair in smoothed_pairs for s in pair]\n",
    "\n",
    "n_permutations = 1000\n",
    "permuted_averages = []\n",
    "\n",
    "for _ in tqdm(range(n_permutations)):\n",
    "    shuffled = random.sample(all_series, len(all_series))\n",
    "    permuted_pairs = [(shuffled[i], shuffled[i+1]) for i in range(0, len(shuffled), 2)]\n",
    "    dists = [l2_distance(s1, s2) for s1, s2 in permuted_pairs]\n",
    "    permuted_averages.append(np.mean(dists))"
   ]
  },
  {
   "cell_type": "code",
   "execution_count": null,
   "id": "85843455",
   "metadata": {},
   "outputs": [],
   "source": [
    "permuted_averages = np.array(permuted_averages)\n",
    "p_value = np.mean(permuted_averages <= observed_avg)  # one-sided test\n",
    "print(f\"P-value: {p_value:.4f}\")\n",
    "\n",
    "# Plot the permutation distribution\n",
    "plt.hist(permuted_averages, bins=30, color='lightgray', edgecolor='black')\n",
    "plt.axvline(observed_avg, color='red', linestyle='--', label=f'Observed Avg = {observed_avg:.3f}')\n",
    "plt.title(\"Permutation Test: Avg L2 Distance of Random vs True Pairs\")\n",
    "plt.xlabel(\"Average L2 Distance\")\n",
    "plt.ylabel(\"Frequency\")\n",
    "plt.legend()\n",
    "plt.show()\n"
   ]
  }
 ],
 "metadata": {
  "kernelspec": {
   "display_name": "Python 3",
   "language": "python",
   "name": "python3"
  },
  "language_info": {
   "codemirror_mode": {
    "name": "ipython",
    "version": 3
   },
   "file_extension": ".py",
   "mimetype": "text/x-python",
   "name": "python",
   "nbconvert_exporter": "python",
   "pygments_lexer": "ipython3",
   "version": "3.10.4"
  }
 },
 "nbformat": 4,
 "nbformat_minor": 5
}
